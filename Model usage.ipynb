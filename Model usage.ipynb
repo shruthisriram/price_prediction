{
 "cells": [
  {
   "cell_type": "code",
   "execution_count": 1,
   "id": "838231a4",
   "metadata": {},
   "outputs": [],
   "source": [
    "from joblib import dump, load\n",
    "import numpy as np\n",
    "model=load('Dragon.joblib') \n",
    "features=np.array([[-0.43942006,  17.12628155, -1.12165014, -0.27288841, -0.42262747,\n",
    "       -45.333018342, -1.31238772,  2.61111401, 0.0016859 , -10.5778192 ,\n",
    "       -0.491834,  0.91164221, -0.86091034]])\n",
    "\n",
    "model.predict(features)"
   ]
  },
  {
   "cell_type": "code",
   "execution_count": 12,
   "id": "764d00e8",
   "metadata": {},
   "outputs": [
    {
     "data": {
      "text/plain": [
       "array([23.174])"
      ]
     },
     "execution_count": 12,
     "metadata": {},
     "output_type": "execute_result"
    }
   ],
   "source": [
    "features=np.array([[-0.43942006,  17.12628155, -1.12165014, -0.27288841, -0.42262747,\n",
    "       -45.333018342, -1.31238772,  2.61111401, 0.0016859 , -10.5778192 ,\n",
    "       -0.491834,  0.91164221, -0.86091034]])\n",
    "\n",
    "model.predict(features)"
   ]
  },
  {
   "cell_type": "code",
   "execution_count": null,
   "id": "7a098389",
   "metadata": {},
   "outputs": [],
   "source": []
  }
 ],
 "metadata": {
  "kernelspec": {
   "display_name": "Python 3 (ipykernel)",
   "language": "python",
   "name": "python3"
  },
  "language_info": {
   "codemirror_mode": {
    "name": "ipython",
    "version": 3
   },
   "file_extension": ".py",
   "mimetype": "text/x-python",
   "name": "python",
   "nbconvert_exporter": "python",
   "pygments_lexer": "ipython3",
   "version": "3.10.7"
  }
 },
 "nbformat": 4,
 "nbformat_minor": 5
}
